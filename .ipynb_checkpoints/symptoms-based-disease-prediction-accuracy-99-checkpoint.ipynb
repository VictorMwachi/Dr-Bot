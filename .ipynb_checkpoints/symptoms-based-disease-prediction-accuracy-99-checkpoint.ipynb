{
 "cells": [
  {
   "cell_type": "markdown",
   "metadata": {},
   "source": [
    "<h1><center> Symptoms based Disease Prediction</center></h1>"
   ]
  },
  {
   "cell_type": "code",
   "execution_count": null,
   "metadata": {
    "execution": {
     "iopub.execute_input": "2022-02-20T10:28:27.439914Z",
     "iopub.status.busy": "2022-02-20T10:28:27.4393Z",
     "iopub.status.idle": "2022-02-20T10:28:29.022635Z",
     "shell.execute_reply": "2022-02-20T10:28:29.021707Z",
     "shell.execute_reply.started": "2022-02-20T10:28:27.439874Z"
    }
   },
   "outputs": [],
   "source": [
    "### import packages\n",
    "\n",
    "## lets basic import packages\n",
    "\n",
    "import numpy as np\n",
    "import pandas as pd\n",
    "import matplotlib.pyplot as plt\n",
    "import seaborn as sns\n",
    "\n",
    "## \n",
    "from sklearn.model_selection import train_test_split\n",
    "from sklearn.model_selection import KFold \n",
    "from sklearn.model_selection import cross_val_score\n",
    "from sklearn.model_selection import GridSearchCV\n",
    "\n",
    "from sklearn.utils import shuffle\n",
    "\n",
    "from sklearn import metrics\n",
    "from sklearn.metrics import f1_score\n",
    "from sklearn.metrics import accuracy_score\n",
    "from sklearn.metrics import confusion_matrix\n",
    "from sklearn.metrics import classification_report\n",
    "from sklearn.metrics import plot_confusion_matrix\n",
    "from sklearn.metrics import plot_roc_curve\n",
    "from sklearn.metrics import precision_score\n",
    "from sklearn.metrics import roc_curve\n",
    "from sklearn.metrics import recall_score\n",
    "\n",
    "# from pandas_profiling import ProfileReport\n",
    "\n",
    "from sklearn.linear_model import LogisticRegression\n",
    "from sklearn.linear_model import Perceptron\n",
    "from sklearn.linear_model import RidgeClassifier\n",
    "from sklearn.linear_model import SGDClassifier\n",
    "\n",
    "from sklearn.ensemble import RandomForestClassifier\n",
    "from sklearn.ensemble import GradientBoostingClassifier\n",
    "from xgboost.sklearn import XGBClassifier\n",
    "\n",
    "from sklearn.svm import SVC\n",
    "from sklearn.svm import LinearSVC\n",
    "\n",
    "from sklearn.neighbors import KNeighborsClassifier\n",
    "from sklearn.naive_bayes import GaussianNB\n",
    "\n",
    "from sklearn.tree import DecisionTreeClassifier\n",
    "from sklearn import preprocessing"
   ]
  },
  {
   "cell_type": "code",
   "execution_count": null,
   "metadata": {
    "execution": {
     "iopub.execute_input": "2022-02-20T10:29:53.094362Z",
     "iopub.status.busy": "2022-02-20T10:29:53.093793Z",
     "iopub.status.idle": "2022-02-20T10:29:53.137201Z",
     "shell.execute_reply": "2022-02-20T10:29:53.136431Z",
     "shell.execute_reply.started": "2022-02-20T10:29:53.094324Z"
    }
   },
   "outputs": [],
   "source": [
    "## import data\n",
    "\n",
    "df = pd.read_csv('/kaggle/input/disease-symptom-description-dataset/dataset.csv')\n",
    "df = shuffle(df, random_state = 42)\n",
    "df.head()"
   ]
  },
  {
   "cell_type": "code",
   "execution_count": null,
   "metadata": {
    "execution": {
     "iopub.execute_input": "2022-02-20T10:30:47.089226Z",
     "iopub.status.busy": "2022-02-20T10:30:47.088767Z",
     "iopub.status.idle": "2022-02-20T10:30:47.16545Z",
     "shell.execute_reply": "2022-02-20T10:30:47.164405Z",
     "shell.execute_reply.started": "2022-02-20T10:30:47.089189Z"
    }
   },
   "outputs": [],
   "source": [
    "## remove ('_') underscore in the text\n",
    "\n",
    "for col in df.columns:\n",
    "    df[col] = df[col].str.replace('_', ' ')\n",
    "    \n",
    "df.head()"
   ]
  },
  {
   "cell_type": "code",
   "execution_count": null,
   "metadata": {
    "execution": {
     "iopub.execute_input": "2022-02-20T10:30:47.166924Z",
     "iopub.status.busy": "2022-02-20T10:30:47.166693Z",
     "iopub.status.idle": "2022-02-20T10:30:47.232975Z",
     "shell.execute_reply": "2022-02-20T10:30:47.231854Z",
     "shell.execute_reply.started": "2022-02-20T10:30:47.166897Z"
    }
   },
   "outputs": [],
   "source": [
    "## charactieristics of data\n",
    "\n",
    "df.describe()"
   ]
  },
  {
   "cell_type": "code",
   "execution_count": null,
   "metadata": {
    "execution": {
     "iopub.execute_input": "2022-02-20T10:30:47.053916Z",
     "iopub.status.busy": "2022-02-20T10:30:47.053329Z",
     "iopub.status.idle": "2022-02-20T10:30:47.086711Z",
     "shell.execute_reply": "2022-02-20T10:30:47.085542Z",
     "shell.execute_reply.started": "2022-02-20T10:30:47.053871Z"
    }
   },
   "outputs": [],
   "source": [
    "## check null values\n",
    "\n",
    "null_checker = df.apply(lambda x: sum(x.isnull())).to_frame(name='count')\n",
    "print(null_checker)"
   ]
  },
  {
   "cell_type": "code",
   "execution_count": null,
   "metadata": {
    "execution": {
     "iopub.execute_input": "2022-02-20T10:31:00.983162Z",
     "iopub.status.busy": "2022-02-20T10:31:00.98284Z",
     "iopub.status.idle": "2022-02-20T10:31:01.305073Z",
     "shell.execute_reply": "2022-02-20T10:31:01.303878Z",
     "shell.execute_reply.started": "2022-02-20T10:31:00.983126Z"
    }
   },
   "outputs": [],
   "source": [
    "## plot of null value\n",
    "\n",
    "plt.figure(figsize=(10, 5), dpi=140)\n",
    "plt.plot(null_checker.index, null_checker['count'])\n",
    "plt.xticks(null_checker.index, null_checker.index, rotation = 45, horizontalalignment = 'right')\n",
    "plt.title('Ratio of Null values')\n",
    "plt.xlabel('column names')\n",
    "plt.margins(0.1)\n",
    "plt.show()"
   ]
  },
  {
   "cell_type": "code",
   "execution_count": null,
   "metadata": {
    "execution": {
     "iopub.execute_input": "2022-02-20T10:31:21.673506Z",
     "iopub.status.busy": "2022-02-20T10:31:21.672768Z",
     "iopub.status.idle": "2022-02-20T10:31:21.734793Z",
     "shell.execute_reply": "2022-02-20T10:31:21.733791Z",
     "shell.execute_reply.started": "2022-02-20T10:31:21.673466Z"
    }
   },
   "outputs": [],
   "source": [
    "cols = df.columns\n",
    "\n",
    "data = df[cols].values.flatten()\n",
    "\n",
    "reshaped = pd.Series(data)\n",
    "reshaped = reshaped.str.strip()\n",
    "reshaped = reshaped.values.reshape(df.shape)\n",
    "\n",
    "df = pd.DataFrame(reshaped, columns = df.columns)\n",
    "df.head()"
   ]
  },
  {
   "cell_type": "code",
   "execution_count": null,
   "metadata": {
    "execution": {
     "iopub.execute_input": "2022-02-20T10:31:30.713296Z",
     "iopub.status.busy": "2022-02-20T10:31:30.712789Z",
     "iopub.status.idle": "2022-02-20T10:31:30.747496Z",
     "shell.execute_reply": "2022-02-20T10:31:30.746503Z",
     "shell.execute_reply.started": "2022-02-20T10:31:30.713245Z"
    }
   },
   "outputs": [],
   "source": [
    "## lets fill nan values\n",
    "\n",
    "df = df.fillna(0)\n",
    "df.head()"
   ]
  },
  {
   "cell_type": "code",
   "execution_count": null,
   "metadata": {
    "execution": {
     "iopub.execute_input": "2022-02-20T10:32:09.86748Z",
     "iopub.status.busy": "2022-02-20T10:32:09.86691Z",
     "iopub.status.idle": "2022-02-20T10:32:09.889522Z",
     "shell.execute_reply": "2022-02-20T10:32:09.888553Z",
     "shell.execute_reply.started": "2022-02-20T10:32:09.867442Z"
    }
   },
   "outputs": [],
   "source": [
    "## lets explore symptom severity\n",
    "\n",
    "df_severity = pd.read_csv('/kaggle/input/disease-symptom-description-dataset/Symptom-severity.csv')\n",
    "df_severity['Symptom'] = df_severity['Symptom'].str.replace('_',' ')\n",
    "df_severity.head(10)"
   ]
  },
  {
   "cell_type": "code",
   "execution_count": null,
   "metadata": {
    "execution": {
     "iopub.execute_input": "2022-02-20T10:32:12.369181Z",
     "iopub.status.busy": "2022-02-20T10:32:12.36826Z",
     "iopub.status.idle": "2022-02-20T10:32:12.377509Z",
     "shell.execute_reply": "2022-02-20T10:32:12.376574Z",
     "shell.execute_reply.started": "2022-02-20T10:32:12.369087Z"
    }
   },
   "outputs": [],
   "source": [
    "## overall list\n",
    "\n",
    "df_severity['Symptom'].unique()"
   ]
  },
  {
   "cell_type": "code",
   "execution_count": null,
   "metadata": {
    "execution": {
     "iopub.execute_input": "2022-02-20T10:32:25.081574Z",
     "iopub.status.busy": "2022-02-20T10:32:25.081134Z",
     "iopub.status.idle": "2022-02-20T10:32:40.286249Z",
     "shell.execute_reply": "2022-02-20T10:32:40.285433Z",
     "shell.execute_reply.started": "2022-02-20T10:32:25.081531Z"
    }
   },
   "outputs": [],
   "source": [
    "## lets encode sysptoms in the data\n",
    "\n",
    "vals = df.values\n",
    "symptoms = df_severity['Symptom'].unique()\n",
    "\n",
    "for i in range(len(symptoms)):\n",
    "    vals[vals == symptoms[i]] = df_severity[df_severity['Symptom'] == symptoms[i]]['weight'].values[0]"
   ]
  },
  {
   "cell_type": "code",
   "execution_count": null,
   "metadata": {
    "execution": {
     "iopub.execute_input": "2022-02-20T10:32:40.287901Z",
     "iopub.status.busy": "2022-02-20T10:32:40.287543Z",
     "iopub.status.idle": "2022-02-20T10:32:40.312569Z",
     "shell.execute_reply": "2022-02-20T10:32:40.311823Z",
     "shell.execute_reply.started": "2022-02-20T10:32:40.287871Z"
    }
   },
   "outputs": [],
   "source": [
    "df_processed = pd.DataFrame(vals, columns=cols)\n",
    "df_processed.head()"
   ]
  },
  {
   "cell_type": "code",
   "execution_count": null,
   "metadata": {
    "execution": {
     "iopub.execute_input": "2022-02-20T10:32:45.072414Z",
     "iopub.status.busy": "2022-02-20T10:32:45.072121Z",
     "iopub.status.idle": "2022-02-20T10:32:45.436698Z",
     "shell.execute_reply": "2022-02-20T10:32:45.43566Z",
     "shell.execute_reply.started": "2022-02-20T10:32:45.072385Z"
    }
   },
   "outputs": [],
   "source": [
    "## assign symptoms with no rank to zero\n",
    "\n",
    "df_processed = df_processed.replace('dischromic  patches', 0)\n",
    "df_processed = df_processed.replace('spotting  urination', 0)\n",
    "df_processed = df_processed.replace('foul smell of urine', 0)"
   ]
  },
  {
   "cell_type": "code",
   "execution_count": null,
   "metadata": {
    "execution": {
     "iopub.execute_input": "2022-02-20T10:32:53.280763Z",
     "iopub.status.busy": "2022-02-20T10:32:53.280479Z",
     "iopub.status.idle": "2022-02-20T10:32:53.291666Z",
     "shell.execute_reply": "2022-02-20T10:32:53.290691Z",
     "shell.execute_reply.started": "2022-02-20T10:32:53.280723Z"
    }
   },
   "outputs": [],
   "source": [
    "## split data\n",
    "\n",
    "data = df_processed.iloc[:,1:].values\n",
    "labels = df['Disease'].values"
   ]
  },
  {
   "cell_type": "code",
   "execution_count": null,
   "metadata": {
    "execution": {
     "iopub.execute_input": "2022-02-20T10:33:18.609319Z",
     "iopub.status.busy": "2022-02-20T10:33:18.608561Z",
     "iopub.status.idle": "2022-02-20T10:33:18.616462Z",
     "shell.execute_reply": "2022-02-20T10:33:18.615532Z",
     "shell.execute_reply.started": "2022-02-20T10:33:18.609263Z"
    }
   },
   "outputs": [],
   "source": [
    "## split trai and test data\n",
    "\n",
    "# help(train_test_split)\n",
    "\n",
    "X_train, X_test, y_train, y_test = train_test_split(data, \n",
    "                                                    labels, \n",
    "                                                    test_size=0.2, \n",
    "                                                    random_state=42)"
   ]
  },
  {
   "cell_type": "code",
   "execution_count": null,
   "metadata": {
    "execution": {
     "iopub.execute_input": "2022-02-20T10:33:20.945401Z",
     "iopub.status.busy": "2022-02-20T10:33:20.945081Z",
     "iopub.status.idle": "2022-02-20T10:33:20.950957Z",
     "shell.execute_reply": "2022-02-20T10:33:20.950126Z",
     "shell.execute_reply.started": "2022-02-20T10:33:20.945366Z"
    }
   },
   "outputs": [],
   "source": [
    "print(X_train.shape, y_train.shape, X_test.shape, y_test.shape)"
   ]
  },
  {
   "cell_type": "code",
   "execution_count": null,
   "metadata": {
    "execution": {
     "iopub.execute_input": "2022-02-20T10:33:28.348726Z",
     "iopub.status.busy": "2022-02-20T10:33:28.348256Z",
     "iopub.status.idle": "2022-02-20T10:33:28.35547Z",
     "shell.execute_reply": "2022-02-20T10:33:28.354549Z",
     "shell.execute_reply.started": "2022-02-20T10:33:28.348675Z"
    }
   },
   "outputs": [],
   "source": [
    "## shape of train data\n",
    "\n",
    "print(X_train[0])\n",
    "print(X_train[1])"
   ]
  },
  {
   "cell_type": "markdown",
   "metadata": {},
   "source": [
    "### performance evaluation\n",
    "\n",
    "- Accuracy\n",
    "\n",
    "    Accuracy is one of classification metrics, which is ratio of number of correct predictions to the total number of input samples. <br>\n",
    "    \n",
    "- Precision\n",
    "\n",
    "    It is the number of correct positive results divided by the number of positive results predicted by the classifier.<br>\n",
    "    \n",
    "- Recall\n",
    "\n",
    "    It is the number of correct positive results divided by the number of all relevant samples.<br>\n",
    "    \n",
    "- F1 score\n",
    "\n",
    "    F1 Score is the Harmonic Mean between precision and recall.<br>"
   ]
  },
  {
   "cell_type": "code",
   "execution_count": null,
   "metadata": {
    "execution": {
     "iopub.execute_input": "2022-02-20T10:36:38.684161Z",
     "iopub.status.busy": "2022-02-20T10:36:38.683828Z",
     "iopub.status.idle": "2022-02-20T10:36:38.693353Z",
     "shell.execute_reply": "2022-02-20T10:36:38.692159Z",
     "shell.execute_reply.started": "2022-02-20T10:36:38.684118Z"
    }
   },
   "outputs": [],
   "source": [
    "def performance_evaluator(model, X_test, y_test):\n",
    "    \"\"\"\n",
    "    model: Load the trained model\n",
    "    X_test: test data\n",
    "    y_test: Actual value\n",
    "    \n",
    "    \"\"\"\n",
    "    \n",
    "    y_predicted = model.predict(X_test)\n",
    "    \n",
    "    precision = precision_score(y_test, y_predicted,average='micro')*100\n",
    "    \n",
    "    accuracy = accuracy_score(y_test, y_predicted)*100\n",
    "    \n",
    "    f1 = f1_score(y_test, y_predicted, average='macro')*100\n",
    "    \n",
    "    recall = recall_score(y_test, y_predicted, average='macro')*100\n",
    "    \n",
    "    print('precision----->', precision) \n",
    "    print('\\n************************')\n",
    "    print('Accuracy----->', accuracy)\n",
    "    print('\\n************************')\n",
    "    print('F1 Score----->', f1)\n",
    "    print('\\n************************')\n",
    "    print('Recall----->', recall)\n",
    "    print('\\n************************')\n",
    "    return accuracy, precision, f1, recall"
   ]
  },
  {
   "cell_type": "code",
   "execution_count": null,
   "metadata": {
    "execution": {
     "iopub.execute_input": "2022-02-20T10:36:50.164307Z",
     "iopub.status.busy": "2022-02-20T10:36:50.163998Z",
     "iopub.status.idle": "2022-02-20T10:36:50.170446Z",
     "shell.execute_reply": "2022-02-20T10:36:50.169562Z",
     "shell.execute_reply.started": "2022-02-20T10:36:50.164278Z"
    }
   },
   "outputs": [],
   "source": [
    "## plot classification metrix \n",
    "\n",
    "def confusion_plot(model, X_test, y_test):\n",
    "    \"\"\"\n",
    "    to plot confusion metrix\n",
    "    \"\"\"\n",
    "    plt.figure(figsize=(10, 10), dpi=150)\n",
    "    \n",
    "    y_pred = model.predict(X_test)\n",
    "    con_me = confusion_matrix(y_test, y_pred)\n",
    "    sns.heatmap(con_me, annot=True)"
   ]
  },
  {
   "cell_type": "markdown",
   "metadata": {},
   "source": [
    "## Machine learning algorithm\n",
    "\n",
    "- Set of rules to achieve some outcome\n",
    "- Uses data to learn the data can be any data type.\n",
    "- 4 Type(Supervised, unsupervised, reinforcement, semi-supervised learning)\n",
    "\n",
    "\n",
    "supervised learning.\n",
    "- It has target and features\n",
    "- It has two type-> classification and Regression.\n",
    "    \n",
    "Unsupervised learning \n",
    "- It has only target values.\n",
    "- Clustering. \n",
    "Reinforcement Learning"
   ]
  },
  {
   "cell_type": "markdown",
   "metadata": {},
   "source": [
    "### Support vector machine\n",
    "\n",
    "- Machine learning algorithm\n",
    "- Supervised learning\n",
    "- Classifcation and Regression\n",
    "- it creates the best decision bountry that can segregate n-dimentional space into classes so that we can easily put new data points in the correct category- Hyperplane. \n",
    "- Out of the box classifier.\n",
    "- a point is a hyperplane in 1-dimensional space.\n",
    "- a line is a hyperplane in 2-dimentional space\n",
    "- a plane is a hyperplane in 3-dementional space.\n",
    "- each and every inditial points are called as vectors\n",
    "- the data/vector points closest to the hyperplane are known as support vector.\n",
    "\n",
    "- the dimention of the hyperplane is depenfing on number of features\n",
    "- If number of fearures is 2 than the hyper plane is just a line. \n",
    "- If number of features is 3 that the hyperplane is just a plane.\n",
    "- Distance between vectors and hyoerplane is called margin. "
   ]
  },
  {
   "cell_type": "code",
   "execution_count": null,
   "metadata": {
    "execution": {
     "iopub.execute_input": "2022-02-20T10:41:17.723978Z",
     "iopub.status.busy": "2022-02-20T10:41:17.723316Z",
     "iopub.status.idle": "2022-02-20T10:41:17.897083Z",
     "shell.execute_reply": "2022-02-20T10:41:17.896037Z",
     "shell.execute_reply.started": "2022-02-20T10:41:17.723941Z"
    }
   },
   "outputs": [],
   "source": [
    "## lets play with Support Vector Machine\n",
    "\n",
    "SVM_init = SVC()\n",
    "model_SVM_init = SVM_init.fit(X_train, y_train)"
   ]
  },
  {
   "cell_type": "code",
   "execution_count": null,
   "metadata": {
    "execution": {
     "iopub.execute_input": "2022-02-20T10:41:27.296435Z",
     "iopub.status.busy": "2022-02-20T10:41:27.295464Z",
     "iopub.status.idle": "2022-02-20T10:41:27.493383Z",
     "shell.execute_reply": "2022-02-20T10:41:27.492323Z",
     "shell.execute_reply.started": "2022-02-20T10:41:27.296389Z"
    }
   },
   "outputs": [],
   "source": [
    "_1, _2, _3, _4 = performance_evaluator(model_SVM_init, X_test, y_test)"
   ]
  },
  {
   "cell_type": "code",
   "execution_count": null,
   "metadata": {
    "execution": {
     "iopub.execute_input": "2022-02-20T10:41:40.767044Z",
     "iopub.status.busy": "2022-02-20T10:41:40.766525Z",
     "iopub.status.idle": "2022-02-20T10:42:23.94368Z",
     "shell.execute_reply": "2022-02-20T10:42:23.942728Z",
     "shell.execute_reply.started": "2022-02-20T10:41:40.767013Z"
    }
   },
   "outputs": [],
   "source": [
    "## support Vector machine Hyperparameter tuned\n",
    "\n",
    "# defining parameter range\n",
    "param_grid = {'C': [0.1, 1, 10, 100, 1000],\n",
    "              'gamma': [1, 0.1, 0.01, 0.001, 0.0001],\n",
    "              'kernel': ['rbf']}\n",
    " \n",
    "grid = GridSearchCV(SVC(), param_grid, refit = True, verbose = 3)\n",
    " \n",
    "# fitting the model for grid search\n",
    "grid.fit(X_train, y_train)"
   ]
  },
  {
   "cell_type": "code",
   "execution_count": null,
   "metadata": {
    "execution": {
     "iopub.execute_input": "2022-02-20T10:45:26.368584Z",
     "iopub.status.busy": "2022-02-20T10:45:26.368015Z",
     "iopub.status.idle": "2022-02-20T10:45:26.374053Z",
     "shell.execute_reply": "2022-02-20T10:45:26.373187Z",
     "shell.execute_reply.started": "2022-02-20T10:45:26.368546Z"
    }
   },
   "outputs": [],
   "source": [
    "## best estimator\n",
    "\n",
    "print(grid.best_estimator_)\n",
    "print(grid.best_params_)"
   ]
  },
  {
   "cell_type": "code",
   "execution_count": null,
   "metadata": {
    "execution": {
     "iopub.execute_input": "2022-02-20T10:45:26.375615Z",
     "iopub.status.busy": "2022-02-20T10:45:26.375374Z",
     "iopub.status.idle": "2022-02-20T10:45:26.590456Z",
     "shell.execute_reply": "2022-02-20T10:45:26.589343Z",
     "shell.execute_reply.started": "2022-02-20T10:45:26.375586Z"
    }
   },
   "outputs": [],
   "source": [
    "## lets built based SVC model.\n",
    "\n",
    "hyper_tuned_svc = SVC(C= 10, gamma= 0.1, kernel= 'rbf')\n",
    "hyper_tuned_svc.fit(X_train, y_train)\n",
    "\n",
    "## lets calculate performance\n",
    "_1, _2, _3, _4 = performance_evaluator(hyper_tuned_svc, X_test, y_test)"
   ]
  },
  {
   "cell_type": "code",
   "execution_count": null,
   "metadata": {
    "execution": {
     "iopub.execute_input": "2022-02-20T10:45:26.591848Z",
     "iopub.status.busy": "2022-02-20T10:45:26.591623Z",
     "iopub.status.idle": "2022-02-20T10:45:33.565728Z",
     "shell.execute_reply": "2022-02-20T10:45:33.56463Z",
     "shell.execute_reply.started": "2022-02-20T10:45:26.591821Z"
    }
   },
   "outputs": [],
   "source": [
    "confusion_plot(hyper_tuned_svc, X_test, y_test)"
   ]
  },
  {
   "cell_type": "markdown",
   "metadata": {},
   "source": [
    "### GradientBoostingClassifier"
   ]
  },
  {
   "cell_type": "code",
   "execution_count": null,
   "metadata": {
    "execution": {
     "iopub.execute_input": "2022-02-20T10:45:59.197476Z",
     "iopub.status.busy": "2022-02-20T10:45:59.197181Z",
     "iopub.status.idle": "2022-02-20T10:46:24.435959Z",
     "shell.execute_reply": "2022-02-20T10:46:24.435296Z",
     "shell.execute_reply.started": "2022-02-20T10:45:59.197447Z"
    }
   },
   "outputs": [],
   "source": [
    "## Gradient Boosting Classifier with out hyperparameter tuning\n",
    " \n",
    "GBC_model = GradientBoostingClassifier()\n",
    "GBC_model.fit(X_train, y_train)"
   ]
  },
  {
   "cell_type": "code",
   "execution_count": null,
   "metadata": {
    "execution": {
     "iopub.execute_input": "2022-02-20T10:46:24.437944Z",
     "iopub.status.busy": "2022-02-20T10:46:24.437462Z",
     "iopub.status.idle": "2022-02-20T10:46:24.569268Z",
     "shell.execute_reply": "2022-02-20T10:46:24.568202Z",
     "shell.execute_reply.started": "2022-02-20T10:46:24.437907Z"
    }
   },
   "outputs": [],
   "source": [
    "## lets calculate performance Gradient Boosting Classifier\n",
    "\n",
    "_1, _2, _3, _4 = performance_evaluator(GBC_model, X_test, y_test)"
   ]
  },
  {
   "cell_type": "code",
   "execution_count": null,
   "metadata": {
    "execution": {
     "iopub.execute_input": "2022-02-20T10:46:24.571358Z",
     "iopub.status.busy": "2022-02-20T10:46:24.571Z",
     "iopub.status.idle": "2022-02-20T10:46:31.529395Z",
     "shell.execute_reply": "2022-02-20T10:46:31.528523Z",
     "shell.execute_reply.started": "2022-02-20T10:46:24.571314Z"
    }
   },
   "outputs": [],
   "source": [
    "confusion_plot(GBC_model, X_test, y_test)"
   ]
  },
  {
   "cell_type": "code",
   "execution_count": null,
   "metadata": {
    "execution": {
     "iopub.execute_input": "2022-02-20T10:46:31.531546Z",
     "iopub.status.busy": "2022-02-20T10:46:31.531303Z",
     "iopub.status.idle": "2022-02-20T10:46:31.541533Z",
     "shell.execute_reply": "2022-02-20T10:46:31.540407Z",
     "shell.execute_reply.started": "2022-02-20T10:46:31.531515Z"
    }
   },
   "outputs": [],
   "source": [
    "## some meaningfull predictions\n",
    "\n",
    "GBC_model.predict([X_test[1]])"
   ]
  },
  {
   "cell_type": "code",
   "execution_count": null,
   "metadata": {
    "execution": {
     "iopub.execute_input": "2022-02-20T10:46:36.606864Z",
     "iopub.status.busy": "2022-02-20T10:46:36.606575Z",
     "iopub.status.idle": "2022-02-20T10:46:36.617816Z",
     "shell.execute_reply": "2022-02-20T10:46:36.616963Z",
     "shell.execute_reply.started": "2022-02-20T10:46:36.606835Z"
    }
   },
   "outputs": [],
   "source": [
    "GBC_model.predict([X_test[2]])"
   ]
  },
  {
   "cell_type": "code",
   "execution_count": null,
   "metadata": {},
   "outputs": [],
   "source": [
    "GBC_model.predict([X_test[3]])"
   ]
  },
  {
   "cell_type": "markdown",
   "metadata": {},
   "source": [
    "<h1><center>The END</center></h1>"
   ]
  }
 ],
 "metadata": {
  "kernelspec": {
   "display_name": "Python 3 (ipykernel)",
   "language": "python",
   "name": "python3"
  },
  "language_info": {
   "codemirror_mode": {
    "name": "ipython",
    "version": 3
   },
   "file_extension": ".py",
   "mimetype": "text/x-python",
   "name": "python",
   "nbconvert_exporter": "python",
   "pygments_lexer": "ipython3",
   "version": "3.8.5"
  }
 },
 "nbformat": 4,
 "nbformat_minor": 4
}
