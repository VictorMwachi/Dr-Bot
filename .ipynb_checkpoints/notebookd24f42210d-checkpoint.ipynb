{
 "cells": [
  {
   "cell_type": "code",
   "execution_count": 1,
   "metadata": {
    "_cell_guid": "b1076dfc-b9ad-4769-8c92-a6c4dae69d19",
    "_uuid": "8f2839f25d086af736a60e9eeb907d3b93b6e0e5",
    "execution": {
     "iopub.execute_input": "2023-01-23T23:03:11.467475Z",
     "iopub.status.busy": "2023-01-23T23:03:11.467012Z",
     "iopub.status.idle": "2023-01-23T23:03:11.48034Z",
     "shell.execute_reply": "2023-01-23T23:03:11.478893Z",
     "shell.execute_reply.started": "2023-01-23T23:03:11.467423Z"
    }
   },
   "outputs": [],
   "source": [
    "# This Python 3 environment comes with many helpful analytics libraries installed\n",
    "# It is defined by the kaggle/python Docker image: https://github.com/kaggle/docker-python\n",
    "# For example, here's several helpful packages to load\n",
    "\n",
    "import numpy as np # linear algebra\n",
    "import pandas as pd # data processing, CSV file I/O (e.g. pd.read_csv)\n",
    "\n",
    "# Input data files are available in the read-only \"../input/\" directory\n",
    "# For example, running this (by clicking run or pressing Shift+Enter) will list all files under the input directory\n",
    "\n",
    "import os\n",
    "for dirname, _, filenames in os.walk('/kaggle/input'):\n",
    "    for filename in filenames:\n",
    "        print(os.path.join(dirname, filename))\n",
    "\n",
    "# You can write up to 20GB to the current directory (/kaggle/working/) that gets preserved as output when you create a version using \"Save & Run All\" \n",
    "# You can also write temporary files to /kaggle/temp/, but they won't be saved outside of the current session"
   ]
  },
  {
   "attachments": {
    "dbee55ef-fd7f-41de-a558-fd0f0362be17.png": {
     "image/png": "[encoded data removed]"
    }
   },
   "cell_type": "markdown",
   "metadata": {},
   "source": [
    "# Step 1 (optional): Data Preparation\n",
    "Load the dataset and symptoms to generate training data in the working directory. (Warning: this may take a few minutes). The resulting data frame contains a column with the prognosis and a column for each possible symptom. If a symptom belongs to a disease, the corresponding cell value is set to 1. The result is saved as \"training.csv\" in the working directory. To avoid having to run this method every time the notebook is started, I uploaded the resulting files to the input directory.\n",
    "\n",
    "\n",
    "**The resulting dataset looks like this:**\n",
    "![image.png](attachment:dbee55ef-fd7f-41de-a558-fd0f0362be17.png)"
   ]
  },
  {
   "cell_type": "code",
   "execution_count": null,
   "metadata": {
    "execution": {
     "iopub.execute_input": "2023-01-23T23:03:11.483469Z",
     "iopub.status.busy": "2023-01-23T23:03:11.483035Z",
     "iopub.status.idle": "2023-01-23T23:03:11.490096Z",
     "shell.execute_reply": "2023-01-23T23:03:11.488816Z",
     "shell.execute_reply.started": "2023-01-23T23:03:11.483412Z"
    }
   },
   "outputs": [],
   "source": [
    "dataset = pd.read_csv('dataset.csv',delimiter=\",\")\n",
    "severity = pd.read_csv('/kaggle/input/disease-symptom-description-dataset/Symptom-severity.csv',delimiter=\",\",)\n",
    "#symptoms = severity[\"Symptom\"]\n",
    "#training = pd.DataFrame()\n",
    "#temp = dataset.drop(columns=[\"Disease\"])\n",
    "#temp = pd.DataFrame(temp[:].values)\n",
    "#for (i, values) in temp.iterrows():\n",
    "#    newRow = pd.DataFrame([dict.fromkeys(values.dropna().unique(),\"1\")])\n",
    "#    training = training.append(newRow)\n",
    "#training = training.reset_index(drop=True)\n",
    "#training[\"Prognosis\"] = dataset[\"Disease\"]\n",
    "#training.to_csv('/kaggle/working/training.csv')"
   ]
  },
  {
   "cell_type": "markdown",
   "metadata": {},
   "source": []
  },
  {
   "cell_type": "markdown",
   "metadata": {},
   "source": [
    "# Step 2: Generating the training and test data\n",
    "Now we generate the training and test data for our model. First, the training data is split into a training and a test data set after replacing NaN with 0. By setting random_state (default=None) to an integer value, we get consistent output data. Later, we can use the test data to validate the model quality after we have performed the training.\n",
    "\n",
    "Attention: The data frame must have a correct index column for the model to be trained properly."
   ]
  },
  {
   "cell_type": "code",
   "execution_count": null,
   "metadata": {
    "execution": {
     "iopub.execute_input": "2023-01-23T23:03:11.493847Z",
     "iopub.status.busy": "2023-01-23T23:03:11.492736Z",
     "iopub.status.idle": "2023-01-23T23:03:11.555675Z",
     "shell.execute_reply": "2023-01-23T23:03:11.554351Z",
     "shell.execute_reply.started": "2023-01-23T23:03:11.493766Z"
    }
   },
   "outputs": [],
   "source": [
    "from sklearn import preprocessing\n",
    "from sklearn.model_selection import train_test_split\n",
    "\n",
    "training = pd.read_csv('/kaggle/input/training/training.csv',delimiter=\",\",index_col=0).fillna(0)\n",
    "\n",
    "cols= training.columns\n",
    "cols= cols[:-1]\n",
    "x = training[cols]\n",
    "y = training['Prognosis']\n",
    "\n",
    "x_train, x_test, y_train, y_test = train_test_split(x, y, test_size=0.33, random_state=42)\n"
   ]
  },
  {
   "cell_type": "markdown",
   "metadata": {},
   "source": []
  },
  {
   "cell_type": "markdown",
   "metadata": {},
   "source": [
    "# Step 3: Generate model 1 - DecisionTreeClassifier\n",
    "Now we genereate our first model: a decision tree classifier. To estimate the accuracy of our model, we use a utility function for cross-validation and output the mean accuracy and standard deviation over the test data. For training and validating the model, we use the data we have generated in step 2. Decision Trees (DTs) are a non-parametric supervised learning method used for classification and regression (https://scikit-learn.org/stable/modules/tree.html)\n"
   ]
  },
  {
   "cell_type": "code",
   "execution_count": null,
   "metadata": {
    "execution": {
     "iopub.execute_input": "2023-01-23T23:03:11.558298Z",
     "iopub.status.busy": "2023-01-23T23:03:11.55793Z",
     "iopub.status.idle": "2023-01-23T23:03:11.672672Z",
     "shell.execute_reply": "2023-01-23T23:03:11.671369Z",
     "shell.execute_reply.started": "2023-01-23T23:03:11.558264Z"
    }
   },
   "outputs": [],
   "source": [
    "from sklearn.tree import DecisionTreeClassifier\n",
    "from sklearn.model_selection import cross_val_score\n",
    "\n",
    "classifier  = DecisionTreeClassifier()\n",
    "classifierModel = classifier.fit(x_train.values,y_train.values)\n",
    "scores = cross_val_score(classifierModel, x_test, y_test, cv=3)\n",
    "print(\"%0.2f accuracy for decision tree classifier with a standard deviation of %0.2f\" % (scores.mean(), scores.std()))\n"
   ]
  },
  {
   "cell_type": "markdown",
   "metadata": {},
   "source": [
    "# Optional: Method for plotting the tree\n",
    "The following method plots the tree up to a depth of 2. Unfortunately, the graphics are still hard to read."
   ]
  },
  {
   "cell_type": "code",
   "execution_count": null,
   "metadata": {
    "execution": {
     "iopub.execute_input": "2023-01-23T23:03:11.674776Z",
     "iopub.status.busy": "2023-01-23T23:03:11.67437Z",
     "iopub.status.idle": "2023-01-23T23:03:12.186844Z",
     "shell.execute_reply": "2023-01-23T23:03:12.185637Z",
     "shell.execute_reply.started": "2023-01-23T23:03:11.674745Z"
    }
   },
   "outputs": [],
   "source": [
    "from sklearn import tree\n",
    "features = x_train.columns\n",
    "tree.plot_tree(classifierModel,feature_names=features, class_names=sorted(classifierModel.classes_),max_depth=2)\n"
   ]
  },
  {
   "cell_type": "markdown",
   "metadata": {},
   "source": [
    "# Optional: Generate model 2: C-Support Vector Classification\n",
    "Now we generate a second model using C-Support Vector Classification. Interestingly, the accuracy for this model is higher.\n",
    "These models can also be used for regression and classification problems: https://scikit-learn.org/stable/modules/svm.html#svm-classification."
   ]
  },
  {
   "cell_type": "code",
   "execution_count": null,
   "metadata": {
    "execution": {
     "iopub.execute_input": "2023-01-23T23:03:12.190172Z",
     "iopub.status.busy": "2023-01-23T23:03:12.189692Z",
     "iopub.status.idle": "2023-01-23T23:03:12.563843Z",
     "shell.execute_reply": "2023-01-23T23:03:12.562533Z",
     "shell.execute_reply.started": "2023-01-23T23:03:12.190139Z"
    }
   },
   "outputs": [],
   "source": [
    "from sklearn.svm import SVC\n",
    "\n",
    "svcModel=SVC()\n",
    "svcModel.fit(x_train.values,y_train.values)\n",
    "print(\"%0.2f accuracy for svm\" % (svcModel.score(x_test.values,y_test.values)))\n"
   ]
  },
  {
   "cell_type": "markdown",
   "metadata": {},
   "source": [
    "# Step 4: Implement the Chatbot\n",
    "# Prepare global variables and data\n",
    "Now we can finally implement the chatbot. Therefore, we load all necessary data into several data frames.\n",
    "First, we initialize the symptoms severities, descriptions and precautions.\n",
    "The weight of the symptoms corresponds with the effect of the symptom on the human body within 2 days.\n",
    "For giving the program user more information about his symptoms and providing him or her some recommendatations, we load the corresponding data also into 2 data frames and set the index to the diseases column.\n",
    "\n",
    "Last, the model tree, feature names and a helper dataframe are created."
   ]
  },
  {
   "cell_type": "code",
   "execution_count": null,
   "metadata": {
    "execution": {
     "iopub.execute_input": "2023-01-23T23:03:12.565967Z",
     "iopub.status.busy": "2023-01-23T23:03:12.565593Z",
     "iopub.status.idle": "2023-01-23T23:03:12.608318Z",
     "shell.execute_reply": "2023-01-23T23:03:12.606999Z",
     "shell.execute_reply.started": "2023-01-23T23:03:12.565934Z"
    }
   },
   "outputs": [],
   "source": [
    "severities = pd.read_csv('/kaggle/input/disease-symptom-description-dataset/Symptom-severity.csv',delimiter=\",\")\n",
    "descriptions = pd.read_csv('/kaggle/input/disease-symptom-description-dataset/symptom_Description.csv',delimiter=\",\")\n",
    "precautions = pd.read_csv('/kaggle/input/disease-symptom-description-dataset/symptom_precaution.csv',delimiter=\",\")\n",
    "diseasesData = pd.read_csv('/kaggle/input/disease-symptom-description-dataset/dataset.csv',delimiter=\",\")\n",
    "precautions.set_index(\"Disease\",inplace=True)\n",
    "descriptions.set_index(\"Disease\",inplace=True)\n",
    "\n",
    "modelTree = classifierModel.tree_\n",
    "\n",
    "groupedData = training.groupby(training['Prognosis']).max()\n",
    "\n"
   ]
  },
  {
   "cell_type": "markdown",
   "metadata": {},
   "source": []
  },
  {
   "cell_type": "markdown",
   "metadata": {},
   "source": [
    "# Retrieving additional symptoms and possible disease\n",
    "The following takes the first symptom which has been inputted by the user and walks the tree until the node with the corresponding name is found. The threshold value is used by the classification algorithm to determine whether a value belongs to class A or B. Since all edges of the tree have the same weight, the threshold is always 0.5. \n",
    "Once a node with the corresponding symptom is found, the disease associated with the node is returned together with the symptoms."
   ]
  },
  {
   "cell_type": "code",
   "execution_count": null,
   "metadata": {
    "execution": {
     "iopub.execute_input": "2023-01-23T23:03:12.610864Z",
     "iopub.status.busy": "2023-01-23T23:03:12.610471Z",
     "iopub.status.idle": "2023-01-23T23:03:12.622283Z",
     "shell.execute_reply": "2023-01-23T23:03:12.620756Z",
     "shell.execute_reply.started": "2023-01-23T23:03:12.610827Z"
    }
   },
   "outputs": [],
   "source": [
    "def walkTree(node, userInput):\n",
    "    names = training.columns[:-1]\n",
    "    featureNames = [\n",
    "        names[i] if i != _tree.TREE_UNDEFINED else \"undefined!\"\n",
    "        for i in modelTree.feature\n",
    "     ]\n",
    "    if modelTree.feature[node] != _tree.TREE_UNDEFINED:\n",
    "            name = featureNames[node]\n",
    "            threshold = modelTree.threshold[node]\n",
    "            if name.strip() == userInput.strip():\n",
    "                val = 1\n",
    "            else:\n",
    "                val = 0\n",
    "            if  val <= threshold:\n",
    "                return walkTree(modelTree.children_left[node],userInput)\n",
    "            else:\n",
    "                return walkTree(modelTree.children_right[node], userInput)\n",
    "    else:\n",
    "        node = tree_.value[node][0]\n",
    "        val  = node.nonzero() \n",
    "        disease = le.inverse_transform(val[0])\n",
    "        possibleDisease = disease[0]\n",
    "        indices  = groupedData.loc[disease].values[0].nonzero()\n",
    "        columnList = groupedData.columns.values[0]\n",
    "        symptomSuggestions = [groupedData.columns.values[i] for i in indices][0]\n",
    "        return (symptomSuggestions , possibleDisease) \n",
    "    "
   ]
  },
  {
   "cell_type": "markdown",
   "metadata": {},
   "source": [
    "*This is a test method for walkTree*"
   ]
  },
  {
   "cell_type": "code",
   "execution_count": null,
   "metadata": {
    "execution": {
     "iopub.execute_input": "2023-01-23T23:03:12.625575Z",
     "iopub.status.busy": "2023-01-23T23:03:12.624946Z",
     "iopub.status.idle": "2023-01-23T23:03:12.648145Z",
     "shell.execute_reply": "2023-01-23T23:03:12.646668Z",
     "shell.execute_reply.started": "2023-01-23T23:03:12.625518Z"
    }
   },
   "outputs": [],
   "source": [
    "(symptomSuggestions, possibleDisease) = walkTree(0,\"itching\")\n",
    "print(symptomSuggestions, possibleDisease)"
   ]
  },
  {
   "cell_type": "markdown",
   "metadata": {},
   "source": [
    "# Make prediction with symptom list\n",
    "Now we finally get to use our machine learning model: based on the symptoms which have been inputted by the program user, we are now making a prediction with our classification model.\n",
    "First, a dictionary is created which holds the name and the index of each symptom within the training data set. Then, an input vector is created, which is set to 0 except for the positons of the symptoms, which are set to 1."
   ]
  },
  {
   "cell_type": "code",
   "execution_count": null,
   "metadata": {
    "execution": {
     "iopub.execute_input": "2023-01-23T23:03:12.650236Z",
     "iopub.status.busy": "2023-01-23T23:03:12.649857Z",
     "iopub.status.idle": "2023-01-23T23:03:12.661763Z",
     "shell.execute_reply": "2023-01-23T23:03:12.660691Z",
     "shell.execute_reply.started": "2023-01-23T23:03:12.650204Z"
    }
   },
   "outputs": [],
   "source": [
    "def makePrediction(experiencedSymptoms):\n",
    "    x = training.iloc[:, :-1]\n",
    "    symptomsDict = {symptom: index for index, symptom in enumerate(x)}\n",
    "    inputVector = np.zeros(len(symptomsDict))\n",
    "    for s in experiencedSymptoms:\n",
    "      inputVector[[symptomsDict[s]]] = 1\n",
    "    #print(svcModel.predict([inputVector])[0])\n",
    "    return classifierModel.predict([inputVector])[0]"
   ]
  },
  {
   "cell_type": "markdown",
   "metadata": {},
   "source": [
    "*This is a test method for makePrediction*"
   ]
  },
  {
   "cell_type": "code",
   "execution_count": null,
   "metadata": {
    "execution": {
     "iopub.execute_input": "2023-01-23T23:03:12.663414Z",
     "iopub.status.busy": "2023-01-23T23:03:12.663078Z",
     "iopub.status.idle": "2023-01-23T23:03:12.679418Z",
     "shell.execute_reply": "2023-01-23T23:03:12.678569Z",
     "shell.execute_reply.started": "2023-01-23T23:03:12.663383Z"
    }
   },
   "outputs": [],
   "source": [
    "makePrediction([\"itching\"])"
   ]
  },
  {
   "cell_type": "markdown",
   "metadata": {},
   "source": [
    "# Get first user input\n",
    "This method looks into the symptom data frame and returns all matching symptoms after the user has entered the first symptom. This method could also use an ML model, but in this simple example, a stupid regex expression is used."
   ]
  },
  {
   "cell_type": "code",
   "execution_count": null,
   "metadata": {
    "execution": {
     "iopub.execute_input": "2023-01-23T23:03:12.683982Z",
     "iopub.status.busy": "2023-01-23T23:03:12.683613Z",
     "iopub.status.idle": "2023-01-23T23:03:12.692478Z",
     "shell.execute_reply": "2023-01-23T23:03:12.691186Z",
     "shell.execute_reply.started": "2023-01-23T23:03:12.68395Z"
    }
   },
   "outputs": [],
   "source": [
    "import re\n",
    "def getRelatedSymptoms(userInput):\n",
    "    result=[]\n",
    "    symptoms = severities['Symptom']\n",
    "    userInput=userInput.replace(' ','_')\n",
    "    pattern = f\"{userInput}\"\n",
    "    regexp = re.compile(pattern)\n",
    "    predictionList=[item.replace('_',' ') for item in symptoms if regexp.search(item)]\n",
    "    if(len(predictionList)>0):\n",
    "        return (True,predictionList)\n",
    "    else:\n",
    "        return (False, [])"
   ]
  },
  {
   "cell_type": "markdown",
   "metadata": {},
   "source": [
    "*This is a test method for getRelatedSymptoms*"
   ]
  },
  {
   "cell_type": "code",
   "execution_count": null,
   "metadata": {
    "execution": {
     "iopub.execute_input": "2023-01-23T23:03:12.695522Z",
     "iopub.status.busy": "2023-01-23T23:03:12.694119Z",
     "iopub.status.idle": "2023-01-23T23:03:12.712174Z",
     "shell.execute_reply": "2023-01-23T23:03:12.710912Z",
     "shell.execute_reply.started": "2023-01-23T23:03:12.695387Z"
    }
   },
   "outputs": [],
   "source": [
    "getRelatedSymptoms(\"e\")"
   ]
  },
  {
   "cell_type": "markdown",
   "metadata": {},
   "source": [
    "# Implement the Chatbot - Greeting\n",
    "Let's say hi to our program user!"
   ]
  },
  {
   "cell_type": "markdown",
   "metadata": {},
   "source": [
    "# Get related symptoms based on first symptom\n",
    "Get related symptoms based on the first user input. Based on the related symptom, the application evaluates whether a second option for a disease exists."
   ]
  },
  {
   "cell_type": "code",
   "execution_count": null,
   "metadata": {
    "execution": {
     "iopub.execute_input": "2023-01-23T23:03:12.714257Z",
     "iopub.status.busy": "2023-01-23T23:03:12.713846Z",
     "iopub.status.idle": "2023-01-23T23:03:12.723731Z",
     "shell.execute_reply": "2023-01-23T23:03:12.722716Z",
     "shell.execute_reply.started": "2023-01-23T23:03:12.714219Z"
    }
   },
   "outputs": [],
   "source": [
    "def getRelatedSymptomsFromUser():\n",
    "    print(\"\\nEnter the symptom you are experiencing \\t\\t\",end=\"->\") \n",
    "    userInput = input(\"\") \n",
    "    return getRelatedSymptoms(userInput)"
   ]
  },
  {
   "cell_type": "markdown",
   "metadata": {},
   "source": [
    "# Get first symptom from user input\n",
    "This is main symptom which the user enters when he starts interacting with the application"
   ]
  },
  {
   "cell_type": "code",
   "execution_count": null,
   "metadata": {
    "execution": {
     "iopub.execute_input": "2023-01-23T23:03:12.725133Z",
     "iopub.status.busy": "2023-01-23T23:03:12.724768Z",
     "iopub.status.idle": "2023-01-23T23:03:12.740108Z",
     "shell.execute_reply": "2023-01-23T23:03:12.738888Z",
     "shell.execute_reply.started": "2023-01-23T23:03:12.725102Z"
    }
   },
   "outputs": [],
   "source": [
    "def getSymptomsChoiceFromUser(relatedSymptoms):\n",
    "    print(\"searches related to input: \") \n",
    "    for num, it in enumerate(relatedSymptoms): \n",
    "        print(num,\")\",it)\n",
    "    i=0\n",
    "    if num!=0: \n",
    "        print(f\"Select the one you meant (0 - {num}): \", end=\"\") \n",
    "        try:\n",
    "            i = int(input(\"\")) \n",
    "        except:\n",
    "            pass\n",
    "    else: \n",
    "        i=0 \n",
    "    return relatedSymptoms[i]"
   ]
  },
  {
   "cell_type": "markdown",
   "metadata": {},
   "source": [
    "# Get more symptoms from user\n",
    "Get more symptoms which the user is experincing based on the previous symptom"
   ]
  },
  {
   "cell_type": "code",
   "execution_count": null,
   "metadata": {
    "execution": {
     "iopub.execute_input": "2023-01-23T23:03:12.742629Z",
     "iopub.status.busy": "2023-01-23T23:03:12.74219Z",
     "iopub.status.idle": "2023-01-23T23:03:12.752353Z",
     "shell.execute_reply": "2023-01-23T23:03:12.751255Z",
     "shell.execute_reply.started": "2023-01-23T23:03:12.742593Z"
    }
   },
   "outputs": [],
   "source": [
    "def getAdditionalSymptomsFromUser(symptomSuggestions):\n",
    "    result = []\n",
    "    print(\"Are you experiencing any \")\n",
    "    for s in symptomSuggestions:\n",
    "        inp=\"\"\n",
    "        print(s,\"? : \",end='')\n",
    "        while True:\n",
    "            inp=input(\"\")\n",
    "            if(inp==\"yes\" or inp==\"no\"):\n",
    "                break\n",
    "            else:\n",
    "                print(\"provide proper answers i.e. (yes/no) : \",end=\"\")\n",
    "            if(inp==\"yes\"):\n",
    "                result.append(s)\n",
    "    return result"
   ]
  },
  {
   "cell_type": "code",
   "execution_count": null,
   "metadata": {},
   "outputs": [],
   "source": []
  },
  {
   "cell_type": "markdown",
   "metadata": {},
   "source": [
    "# Print description and recommendaton\n",
    "Provide information and the disease and corresponding precautions."
   ]
  },
  {
   "cell_type": "code",
   "execution_count": null,
   "metadata": {
    "execution": {
     "iopub.execute_input": "2023-01-23T23:03:12.754628Z",
     "iopub.status.busy": "2023-01-23T23:03:12.754124Z",
     "iopub.status.idle": "2023-01-23T23:03:12.766409Z",
     "shell.execute_reply": "2023-01-23T23:03:12.764758Z",
     "shell.execute_reply.started": "2023-01-23T23:03:12.754582Z"
    }
   },
   "outputs": [],
   "source": [
    "def printDiseaseRecommendation(disease):\n",
    "    print(\"You may have \", disease)\n",
    "    print(descriptions.loc[disease].values[0])\n",
    "    print(\"Take the following precautions: \")\n",
    "    for p in precautions.loc[disease].values:\n",
    "        print(\"- \" + str(p))\n",
    "     "
   ]
  },
  {
   "cell_type": "markdown",
   "metadata": {},
   "source": [
    "*This is a test method for printDiseaseRecommendation*"
   ]
  },
  {
   "cell_type": "code",
   "execution_count": null,
   "metadata": {
    "execution": {
     "iopub.execute_input": "2023-01-23T23:03:12.768418Z",
     "iopub.status.busy": "2023-01-23T23:03:12.768035Z",
     "iopub.status.idle": "2023-01-23T23:03:12.781691Z",
     "shell.execute_reply": "2023-01-23T23:03:12.780348Z",
     "shell.execute_reply.started": "2023-01-23T23:03:12.768384Z"
    }
   },
   "outputs": [],
   "source": [
    "printDiseaseRecommendation(\"hepatitis A\")"
   ]
  },
  {
   "cell_type": "markdown",
   "metadata": {},
   "source": [
    "# The main method: run the Healthcare chat bot!!!!\n",
    "This method starts the application an retrieves the first symptom from the user. Based on the first symptom, the application makes a guess for a disease using the decision tree and provides more symptoms related to the first symptom.\n",
    "From the second list, the user picks the symptoms which he experiences additionally to the current symptom.\n",
    "Then, a second guess for a disease is made and corresponding advice is printed for the user.\n",
    "\n",
    "Have fun!!!"
   ]
  },
  {
   "cell_type": "code",
   "execution_count": null,
   "metadata": {
    "execution": {
     "iopub.execute_input": "2023-01-23T23:03:12.783566Z",
     "iopub.status.busy": "2023-01-23T23:03:12.783161Z",
     "iopub.status.idle": "2023-01-23T23:03:30.967796Z",
     "shell.execute_reply": "2023-01-23T23:03:30.966519Z",
     "shell.execute_reply.started": "2023-01-23T23:03:12.783532Z"
    }
   },
   "outputs": [],
   "source": [
    "print(\"-----------------------------------HealthCare ChatBot-----------------------------------\")\n",
    "print(\"\\nWhat's your name? \\t\\t\\t\\t\",end=\"->\")\n",
    "userName = input(\"Hello: \")\n",
    "print(\"Hello,\",userName,\"! Nice to see you!\")\n",
    "\n",
    "while True:\n",
    "    currentSymptom = \"\" \n",
    "    (result, relatedSymptoms) = getRelatedSymptomsFromUser()\n",
    "    if result == True: \n",
    "        currentSymptom = getSymptomsChoiceFromUser(relatedSymptoms)\n",
    "        (symptomSuggestions, possibleDisease) = walkTree(0, currentSymptom.replace(\" \",\"_\"))\n",
    "        print(symptomSuggestions,possibleDisease )\n",
    "        additionalSymptoms = getAdditionalSymptomsFromUser(symptomSuggestions)\n",
    "        print(additionalSymptoms)\n",
    "        otherPossibleDisease = makePrediction(additionalSymptoms)\n",
    "        printDiseaseRecommendation(possibleDisease)\n",
    "        if not possibleDisease == otherPossibleDisease:\n",
    "            print(\"You may also have: \\n\")\n",
    "            printDiseaseRecommendation(otherPossibleDisease)\n",
    "            print(\"\\n\")\n",
    "    print(\"Bye!\")\n",
    "    break"
   ]
  },
  {
   "cell_type": "markdown",
   "metadata": {},
   "source": []
  },
  {
   "cell_type": "markdown",
   "metadata": {},
   "source": []
  }
 ],
 "metadata": {
  "kernelspec": {
   "display_name": "Python 3 (ipykernel)",
   "language": "python",
   "name": "python3"
  },
  "language_info": {
   "codemirror_mode": {
    "name": "ipython",
    "version": 3
   },
   "file_extension": ".py",
   "mimetype": "text/x-python",
   "name": "python",
   "nbconvert_exporter": "python",
   "pygments_lexer": "ipython3",
   "version": "3.8.5"
  }
 },
 "nbformat": 4,
 "nbformat_minor": 4
}
