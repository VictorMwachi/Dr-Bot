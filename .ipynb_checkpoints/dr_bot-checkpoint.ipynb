{
 "cells": [
  {
   "cell_type": "code",
   "execution_count": 1,
   "id": "Ux18I9rAqjzo",
   "metadata": {
    "colab": {
     "base_uri": "https://localhost:8080/"
    },
    "executionInfo": {
     "elapsed": 28337,
     "status": "ok",
     "timestamp": 1686142643104,
     "user": {
      "displayName": "mudakize Victor",
      "userId": "17320283297008163198"
     },
     "user_tz": -180
    },
    "id": "Ux18I9rAqjzo",
    "outputId": "3060e75b-92ee-480e-abc9-cd7649ec5239"
   },
   "outputs": [],
   "source": [
    "#from google.colab import drive\n",
    "#drive.mount('/content/drive')"
   ]
  },
  {
   "cell_type": "markdown",
   "id": "GF3Ks98XBm5q",
   "metadata": {
    "id": "GF3Ks98XBm5q"
   },
   "source": [
    "# **Importation of Required Packages**"
   ]
  },
  {
   "cell_type": "code",
   "execution_count": 2,
   "id": "z4riERYYqa5u",
   "metadata": {
    "executionInfo": {
     "elapsed": 8,
     "status": "ok",
     "timestamp": 1686145347479,
     "user": {
      "displayName": "mudakize Victor",
      "userId": "17320283297008163198"
     },
     "user_tz": -180
    },
    "id": "z4riERYYqa5u"
   },
   "outputs": [],
   "source": [
    "import pandas as pd\n",
    "import matplotlib.pyplot as plt\n",
    "from sklearn.model_selection import train_test_split\n",
    "from sklearn.model_selection import KFold \n",
    "from sklearn.model_selection import cross_val_score\n",
    "from sklearn.model_selection import GridSearchCV\n",
    "from sklearn.utils import shuffle\n",
    "\n",
    "from sklearn import metrics\n",
    "from sklearn.metrics import f1_score\n",
    "from sklearn.metrics import accuracy_score\n",
    "from sklearn.metrics import confusion_matrix\n",
    "from sklearn.metrics import classification_report\n",
    "from sklearn.metrics import ConfusionMatrixDisplay\n",
    "from sklearn.metrics import RocCurveDisplay\n",
    "from sklearn.metrics import precision_score\n",
    "from sklearn.metrics import roc_curve\n",
    "from sklearn.metrics import recall_score\n",
    "\n",
    "from sklearn.ensemble import GradientBoostingClassifier\n",
    "\n",
    "from sklearn import preprocessing\n",
    "import pickle"
   ]
  },
  {
   "cell_type": "markdown",
   "id": "WzWQpf9CCTb-",
   "metadata": {
    "id": "WzWQpf9CCTb-"
   },
   "source": [
    "Import Datasets for the project"
   ]
  },
  {
   "cell_type": "code",
   "execution_count": 6,
   "id": "f4582d3e",
   "metadata": {
    "executionInfo": {
     "elapsed": 11,
     "status": "ok",
     "timestamp": 1686142643842,
     "user": {
      "displayName": "mudakize Victor",
      "userId": "17320283297008163198"
     },
     "user_tz": -180
    },
    "id": "f4582d3e"
   },
   "outputs": [],
   "source": [
    "#import csv\n",
    "#df = pd.read_csv('/content/drive/MyDrive/dr_bot/dataset.csv',index_col=False)\n",
    "df = pd.read_csv('/data/dataset.csv')"
   ]
  },
  {
   "cell_type": "code",
   "execution_count": 5,
   "id": "rF13GWibDe0K",
   "metadata": {
    "colab": {
     "base_uri": "https://localhost:8080/",
     "height": 357
    },
    "executionInfo": {
     "elapsed": 28,
     "status": "ok",
     "timestamp": 1686145344518,
     "user": {
      "displayName": "mudakize Victor",
      "userId": "17320283297008163198"
     },
     "user_tz": -180
    },
    "id": "rF13GWibDe0K",
    "outputId": "f95ce6ba-c985-4af1-cef5-cfd2e006a6f6"
   },
   "outputs": [],
   "source": [
    "df.head()"
   ]
  },
  {
   "cell_type": "markdown",
   "id": "XD-laNS5EDBk",
   "metadata": {
    "id": "XD-laNS5EDBk"
   },
   "source": [
    "**Descriptive statistics about our dataset**\n",
    "\n"
   ]
  },
  {
   "cell_type": "code",
   "execution_count": null,
   "id": "lxbF0OT4DnzJ",
   "metadata": {
    "colab": {
     "base_uri": "https://localhost:8080/",
     "height": 256
    },
    "executionInfo": {
     "elapsed": 91,
     "status": "ok",
     "timestamp": 1686142644742,
     "user": {
      "displayName": "mudakize Victor",
      "userId": "17320283297008163198"
     },
     "user_tz": -180
    },
    "id": "lxbF0OT4DnzJ",
    "outputId": "79174b5d-3843-4415-ccd7-2a25031064f1"
   },
   "outputs": [],
   "source": [
    "df.describe()"
   ]
  },
  {
   "cell_type": "markdown",
   "id": "WaqgBiT6EdIC",
   "metadata": {
    "id": "WaqgBiT6EdIC"
   },
   "source": [
    "shape of data"
   ]
  },
  {
   "cell_type": "code",
   "execution_count": null,
   "id": "BkU90nmoEh8d",
   "metadata": {
    "colab": {
     "base_uri": "https://localhost:8080/"
    },
    "executionInfo": {
     "elapsed": 92,
     "status": "ok",
     "timestamp": 1686142644747,
     "user": {
      "displayName": "mudakize Victor",
      "userId": "17320283297008163198"
     },
     "user_tz": -180
    },
    "id": "BkU90nmoEh8d",
    "outputId": "02371167-b9b3-46d0-9747-d4b8480fa681"
   },
   "outputs": [],
   "source": [
    "df.shape"
   ]
  },
  {
   "cell_type": "markdown",
   "id": "T01lX72XExS9",
   "metadata": {
    "id": "T01lX72XExS9"
   },
   "source": [
    "# **Clean Data**"
   ]
  },
  {
   "cell_type": "code",
   "execution_count": null,
   "id": "Iu47FKM5FeMo",
   "metadata": {
    "executionInfo": {
     "elapsed": 85,
     "status": "ok",
     "timestamp": 1686142644748,
     "user": {
      "displayName": "mudakize Victor",
      "userId": "17320283297008163198"
     },
     "user_tz": -180
    },
    "id": "Iu47FKM5FeMo"
   },
   "outputs": [],
   "source": [
    "for col in df.columns:\n",
    "  #Remove Preceding and postceding spaces\n",
    "  df[col]=df[col].str.strip()\n",
    "  #replace _ with space\n",
    "  df[col] = df[col].str.replace('_',' ')\n",
    "df.head(5)\n",
    "cols =df.columns"
   ]
  },
  {
   "cell_type": "markdown",
   "id": "l4PN5iovHRtY",
   "metadata": {
    "id": "l4PN5iovHRtY"
   },
   "source": [
    "**Replace Null with 0**"
   ]
  },
  {
   "cell_type": "code",
   "execution_count": null,
   "id": "gCrM_IVTHcxx",
   "metadata": {
    "colab": {
     "base_uri": "https://localhost:8080/",
     "height": 600
    },
    "executionInfo": {
     "elapsed": 83,
     "status": "ok",
     "timestamp": 1686142644748,
     "user": {
      "displayName": "mudakize Victor",
      "userId": "17320283297008163198"
     },
     "user_tz": -180
    },
    "id": "gCrM_IVTHcxx",
    "outputId": "b477f2ed-e7f9-4889-c016-dd84780232fe"
   },
   "outputs": [],
   "source": [
    "df=df.fillna(0)\n",
    "df.head(10)"
   ]
  },
  {
   "cell_type": "code",
   "execution_count": null,
   "id": "YRTPG4OIJexe",
   "metadata": {
    "colab": {
     "base_uri": "https://localhost:8080/",
     "height": 424
    },
    "execution": {
     "iopub.execute_input": "2022-02-20T10:29:53.094362Z",
     "iopub.status.busy": "2022-02-20T10:29:53.093793Z",
     "iopub.status.idle": "2022-02-20T10:29:53.137201Z",
     "shell.execute_reply": "2022-02-20T10:29:53.136431Z",
     "shell.execute_reply.started": "2022-02-20T10:29:53.094324Z"
    },
    "executionInfo": {
     "elapsed": 81,
     "status": "ok",
     "timestamp": 1686142644750,
     "user": {
      "displayName": "mudakize Victor",
      "userId": "17320283297008163198"
     },
     "user_tz": -180
    },
    "id": "YRTPG4OIJexe",
    "outputId": "7ced2ef3-d27d-4a9c-b25d-9d5625e3bf2d"
   },
   "outputs": [],
   "source": [
    "## import data\n",
    "\n",
    "df_severity = pd.read_csv('drive/MyDrive/dr_bot/Symptom-severity.csv')\n",
    "df_severity\n"
   ]
  },
  {
   "cell_type": "code",
   "execution_count": null,
   "id": "f53313b4",
   "metadata": {
    "colab": {
     "base_uri": "https://localhost:8080/",
     "height": 424
    },
    "executionInfo": {
     "elapsed": 79,
     "status": "ok",
     "timestamp": 1686142644751,
     "user": {
      "displayName": "mudakize Victor",
      "userId": "17320283297008163198"
     },
     "user_tz": -180
    },
    "id": "f53313b4",
    "outputId": "6aad4120-6742-45d0-af2f-fed278a0d1c2"
   },
   "outputs": [],
   "source": [
    "df_severity['Symptom']=df_severity['Symptom'].str.replace('_',' ')\n",
    "df_severity['Symptom']=df_severity['Symptom'].str.strip()\n",
    "df_severity"
   ]
  },
  {
   "cell_type": "code",
   "execution_count": null,
   "id": "ae9a05a2",
   "metadata": {
    "colab": {
     "base_uri": "https://localhost:8080/"
    },
    "executionInfo": {
     "elapsed": 75,
     "status": "ok",
     "timestamp": 1686142644752,
     "user": {
      "displayName": "mudakize Victor",
      "userId": "17320283297008163198"
     },
     "user_tz": -180
    },
    "id": "ae9a05a2",
    "outputId": "e27b788f-e375-48a8-9407-f9863d7fcf61"
   },
   "outputs": [],
   "source": [
    "#list all the unique symptoms\n",
    "df_severity['Symptom'].unique()"
   ]
  },
  {
   "cell_type": "markdown",
   "id": "eqops93xp3FG",
   "metadata": {
    "id": "eqops93xp3FG"
   },
   "source": [
    "**encode sysptoms in the data**"
   ]
  },
  {
   "cell_type": "code",
   "execution_count": null,
   "id": "5dcadc36",
   "metadata": {
    "colab": {
     "base_uri": "https://localhost:8080/"
    },
    "executionInfo": {
     "elapsed": 4673,
     "status": "ok",
     "timestamp": 1686142649357,
     "user": {
      "displayName": "mudakize Victor",
      "userId": "17320283297008163198"
     },
     "user_tz": -180
    },
    "id": "5dcadc36",
    "outputId": "6bee503d-a72a-4133-ed6d-c1992b377c83"
   },
   "outputs": [],
   "source": [
    "vals = df.values\n",
    "symptoms = df_severity['Symptom'].unique()\n",
    "\n",
    "for i in range(len(symptoms)):\n",
    "    vals[vals == symptoms[i]] = df_severity[df_severity['Symptom'] == symptoms[i]]['weight'].values[0]\n",
    "vals"
   ]
  },
  {
   "cell_type": "code",
   "execution_count": null,
   "id": "a153121e",
   "metadata": {
    "colab": {
     "base_uri": "https://localhost:8080/",
     "height": 357
    },
    "executionInfo": {
     "elapsed": 24,
     "status": "ok",
     "timestamp": 1686142649361,
     "user": {
      "displayName": "mudakize Victor",
      "userId": "17320283297008163198"
     },
     "user_tz": -180
    },
    "id": "a153121e",
    "outputId": "4a5d8f6e-0e3b-4c03-9672-aaee55735069"
   },
   "outputs": [],
   "source": [
    "df_processed = pd.DataFrame(vals, columns=cols)\n",
    "df_processed.head()"
   ]
  },
  {
   "cell_type": "code",
   "execution_count": null,
   "id": "_MMp6qwyyLNH",
   "metadata": {
    "executionInfo": {
     "elapsed": 879,
     "status": "ok",
     "timestamp": 1686142650221,
     "user": {
      "displayName": "mudakize Victor",
      "userId": "17320283297008163198"
     },
     "user_tz": -180
    },
    "id": "_MMp6qwyyLNH"
   },
   "outputs": [],
   "source": [
    "## assign symptoms with no rank to zero\n",
    "\n",
    "df_processed = df_processed.replace('dischromic  patches', 0)\n",
    "df_processed = df_processed.replace('spotting  urination', 0)\n",
    "df_processed = df_processed.replace('foul smell of urine', 0)"
   ]
  },
  {
   "cell_type": "code",
   "execution_count": null,
   "id": "c721bddd",
   "metadata": {
    "colab": {
     "base_uri": "https://localhost:8080/",
     "height": 661
    },
    "executionInfo": {
     "elapsed": 31,
     "status": "ok",
     "timestamp": 1686142650222,
     "user": {
      "displayName": "mudakize Victor",
      "userId": "17320283297008163198"
     },
     "user_tz": -180
    },
    "id": "c721bddd",
    "outputId": "8fee2261-ab19-4f87-f053-42d0d04eb9e3"
   },
   "outputs": [],
   "source": [
    "df_processed"
   ]
  },
  {
   "cell_type": "code",
   "execution_count": null,
   "id": "6717cb22",
   "metadata": {
    "colab": {
     "base_uri": "https://localhost:8080/"
    },
    "executionInfo": {
     "elapsed": 28,
     "status": "ok",
     "timestamp": 1686142650222,
     "user": {
      "displayName": "mudakize Victor",
      "userId": "17320283297008163198"
     },
     "user_tz": -180
    },
    "id": "6717cb22",
    "outputId": "acab2c5b-d7e9-4bf2-f67a-0966f705387a"
   },
   "outputs": [],
   "source": [
    "## split data\n",
    "data = df_processed.drop(columns='Disease')\n",
    "labels = df['Disease'].values\n",
    "data.values\n"
   ]
  },
  {
   "cell_type": "code",
   "execution_count": null,
   "id": "f-Qp8OyHGjAy",
   "metadata": {
    "executionInfo": {
     "elapsed": 25,
     "status": "ok",
     "timestamp": 1686142650224,
     "user": {
      "displayName": "mudakize Victor",
      "userId": "17320283297008163198"
     },
     "user_tz": -180
    },
    "id": "f-Qp8OyHGjAy"
   },
   "outputs": [],
   "source": [
    "## split data train and test data\n",
    "\n",
    "X_train, X_test, y_train, y_test = train_test_split(data, \n",
    "                                                    labels, \n",
    "                                                    test_size=0.2, \n",
    "                                                    random_state=42)"
   ]
  },
  {
   "cell_type": "code",
   "execution_count": null,
   "id": "Y7f6ycLhK6v0",
   "metadata": {
    "colab": {
     "base_uri": "https://localhost:8080/"
    },
    "executionInfo": {
     "elapsed": 24,
     "status": "ok",
     "timestamp": 1686142650225,
     "user": {
      "displayName": "mudakize Victor",
      "userId": "17320283297008163198"
     },
     "user_tz": -180
    },
    "id": "Y7f6ycLhK6v0",
    "outputId": "97d943ab-1572-46e6-b975-5d2d631b2946"
   },
   "outputs": [],
   "source": [
    "print(X_train.shape, y_train.shape, X_test.shape, y_test.shape)"
   ]
  },
  {
   "cell_type": "code",
   "execution_count": null,
   "id": "5eb52536",
   "metadata": {
    "executionInfo": {
     "elapsed": 17942,
     "status": "ok",
     "timestamp": 1686143331919,
     "user": {
      "displayName": "mudakize Victor",
      "userId": "17320283297008163198"
     },
     "user_tz": -180
    },
    "id": "5eb52536"
   },
   "outputs": [],
   "source": [
    "## Gradient Boosting Classifier with out hyperparameter tuning\n",
    " \n",
    "GBC_model = GradientBoostingClassifier()\n",
    "GBC_model.fit(X_train, y_train)\n",
    "filename='dr_bot.sav'\n",
    "pickle.dump(GBC_model, open(filename, 'wb'))"
   ]
  },
  {
   "cell_type": "code",
   "execution_count": null,
   "id": "vkvVrGZ17KvX",
   "metadata": {
    "executionInfo": {
     "elapsed": 467,
     "status": "ok",
     "timestamp": 1686142684008,
     "user": {
      "displayName": "mudakize Victor",
      "userId": "17320283297008163198"
     },
     "user_tz": -180
    },
    "id": "vkvVrGZ17KvX"
   },
   "outputs": [],
   "source": [
    "def performance_evaluator(model, X_test, y_test):\n",
    "    \"\"\"\n",
    "    model: Load the trained model\n",
    "    X_test: test data\n",
    "    y_test: Actual value\n",
    "    \n",
    "    \"\"\"\n",
    "    \n",
    "    y_predicted = model.predict(X_test)\n",
    "    \n",
    "    precision = precision_score(y_test, y_predicted,average='micro')*100\n",
    "    \n",
    "    accuracy = accuracy_score(y_test, y_predicted)*100\n",
    "    \n",
    "    f1 = f1_score(y_test, y_predicted, average='macro')*100\n",
    "    \n",
    "    recall = recall_score(y_test, y_predicted, average='macro')*100\n",
    "    \n",
    "    print('precision----->', precision) \n",
    "    print('\\n************************')\n",
    "    print('Accuracy----->', accuracy)\n",
    "    print('\\n************************')\n",
    "    print('F1 Score----->', f1)\n",
    "    print('\\n************************')\n",
    "    print('Recall----->', recall)\n",
    "    print('\\n************************')\n",
    "    return accuracy, precision, f1, recall"
   ]
  },
  {
   "cell_type": "code",
   "execution_count": null,
   "id": "32fb9d81",
   "metadata": {
    "colab": {
     "base_uri": "https://localhost:8080/"
    },
    "executionInfo": {
     "elapsed": 39,
     "status": "ok",
     "timestamp": 1686142668741,
     "user": {
      "displayName": "mudakize Victor",
      "userId": "17320283297008163198"
     },
     "user_tz": -180
    },
    "id": "32fb9d81",
    "outputId": "aeb877ba-1097-4564-b0c5-73b9816a1516"
   },
   "outputs": [],
   "source": [
    "## lets calculate performance Gradient Boosting Classifier\n",
    "_1, _2, _3, _4 = performance_evaluator(GBC_model, X_test, y_test)"
   ]
  },
  {
   "cell_type": "code",
   "execution_count": null,
   "id": "0f566452",
   "metadata": {
    "colab": {
     "base_uri": "https://localhost:8080/"
    },
    "executionInfo": {
     "elapsed": 454,
     "status": "ok",
     "timestamp": 1686142784283,
     "user": {
      "displayName": "mudakize Victor",
      "userId": "17320283297008163198"
     },
     "user_tz": -180
    },
    "id": "0f566452",
    "outputId": "2e394371-7da4-4507-8f7c-76ccb8ead5c2"
   },
   "outputs": [],
   "source": [
    "## some meaningfull predictions\n",
    "\n",
    "GBC_model.predict(X_test)"
   ]
  },
  {
   "cell_type": "code",
   "execution_count": null,
   "id": "d69b0539",
   "metadata": {
    "executionInfo": {
     "elapsed": 32,
     "status": "aborted",
     "timestamp": 1686142668744,
     "user": {
      "displayName": "mudakize Victor",
      "userId": "17320283297008163198"
     },
     "user_tz": -180
    },
    "id": "d69b0539"
   },
   "outputs": [],
   "source": [
    "for col in df.columns:\n",
    "  df[col]=df[col].str.replace('_',' ')\n",
    "df"
   ]
  },
  {
   "cell_type": "code",
   "execution_count": null,
   "id": "3a1ad4ee",
   "metadata": {
    "executionInfo": {
     "elapsed": 32,
     "status": "aborted",
     "timestamp": 1686142668745,
     "user": {
      "displayName": "mudakize Victor",
      "userId": "17320283297008163198"
     },
     "user_tz": -180
    },
    "id": "3a1ad4ee"
   },
   "outputs": [],
   "source": [
    "df.describe()"
   ]
  },
  {
   "cell_type": "code",
   "execution_count": null,
   "id": "678575f6",
   "metadata": {
    "executionInfo": {
     "elapsed": 33,
     "status": "aborted",
     "timestamp": 1686142668746,
     "user": {
      "displayName": "mudakize Victor",
      "userId": "17320283297008163198"
     },
     "user_tz": -180
    },
    "id": "678575f6"
   },
   "outputs": [],
   "source": [
    "df.fillna(0)"
   ]
  },
  {
   "cell_type": "code",
   "execution_count": null,
   "id": "ee68f567",
   "metadata": {
    "executionInfo": {
     "elapsed": 34,
     "status": "aborted",
     "timestamp": 1686142668747,
     "user": {
      "displayName": "mudakize Victor",
      "userId": "17320283297008163198"
     },
     "user_tz": -180
    },
    "id": "ee68f567"
   },
   "outputs": [],
   "source": [
    "df=df.fillna(0)"
   ]
  },
  {
   "cell_type": "code",
   "execution_count": null,
   "id": "9974f1fb",
   "metadata": {
    "executionInfo": {
     "elapsed": 34,
     "status": "aborted",
     "timestamp": 1686142668748,
     "user": {
      "displayName": "mudakize Victor",
      "userId": "17320283297008163198"
     },
     "user_tz": -180
    },
    "id": "9974f1fb"
   },
   "outputs": [],
   "source": [
    "df"
   ]
  },
  {
   "cell_type": "code",
   "execution_count": null,
   "id": "dd6b701b",
   "metadata": {
    "executionInfo": {
     "elapsed": 34,
     "status": "aborted",
     "timestamp": 1686142668749,
     "user": {
      "displayName": "mudakize Victor",
      "userId": "17320283297008163198"
     },
     "user_tz": -180
    },
    "id": "dd6b701b"
   },
   "outputs": [],
   "source": [
    "df.head(20)"
   ]
  },
  {
   "cell_type": "code",
   "execution_count": null,
   "id": "60adb051",
   "metadata": {
    "executionInfo": {
     "elapsed": 33,
     "status": "aborted",
     "timestamp": 1686142668749,
     "user": {
      "displayName": "mudakize Victor",
      "userId": "17320283297008163198"
     },
     "user_tz": -180
    },
    "id": "60adb051"
   },
   "outputs": [],
   "source": []
  }
 ],
 "metadata": {
  "colab": {
   "provenance": []
  },
  "kernelspec": {
   "display_name": "Python 3 (ipykernel)",
   "language": "python",
   "name": "python3"
  },
  "language_info": {
   "codemirror_mode": {
    "name": "ipython",
    "version": 3
   },
   "file_extension": ".py",
   "mimetype": "text/x-python",
   "name": "python",
   "nbconvert_exporter": "python",
   "pygments_lexer": "ipython3",
   "version": "3.8.5"
  }
 },
 "nbformat": 4,
 "nbformat_minor": 5
}
